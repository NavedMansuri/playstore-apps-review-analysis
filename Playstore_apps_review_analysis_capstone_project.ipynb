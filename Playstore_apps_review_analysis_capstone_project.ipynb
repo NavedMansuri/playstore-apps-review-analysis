{
  "nbformat": 4,
  "nbformat_minor": 0,
  "metadata": {
    "colab": {
      "name": "Playstore apps review analysis capstone project.ipynb",
      "provenance": [],
      "collapsed_sections": [],
      "mount_file_id": "1rqA5UVfGeHMTnJV9mX7ZCVmySINHeNTK",
      "authorship_tag": "ABX9TyPMcyeMuHftWGKsagJySjLc",
      "include_colab_link": true
    },
    "kernelspec": {
      "name": "python3",
      "display_name": "Python 3"
    },
    "language_info": {
      "name": "python"
    }
  },
  "cells": [
    {
      "cell_type": "markdown",
      "metadata": {
        "id": "view-in-github",
        "colab_type": "text"
      },
      "source": [
        "<a href=\"https://colab.research.google.com/github/NavedMansuri/playstore-apps-review-analysis/blob/main/Playstore_apps_review_analysis_capstone_project.ipynb\" target=\"_parent\"><img src=\"https://colab.research.google.com/assets/colab-badge.svg\" alt=\"Open In Colab\"/></a>"
      ]
    },
    {
      "cell_type": "markdown",
      "source": [
        "# **Analysis on Play Store Apps And Reviews**\n",
        "In this project I will analyzing various apps found on the play store with the help of different python libraries like- Python, Pandas, Matplotlib, Numpy and  Seaborn.\n",
        "\n",
        "> We have 2 type type of dataset.\n",
        "\n",
        "> **Playstore Data**\n",
        "\n",
        "> **User Reviews Data**\n",
        "\n",
        "*   **Playstore Data**: Datconsists of 13 columns:- App, Category, Rating, Reviews, Size, Installs, Type, Price, Content Rating, Genres, Last Updated, Current Ver, and Android Ver with 10841 Rows.\n",
        "*   **User Reviews Data**:Datconsists of 5 columns:- App, Translated_Review, Sentiment, Sentiment_Polarity, Sentiment_Subjectivity with 64295 Rows.\n",
        "\n",
        "**Playstore Data Data Description.**\n",
        "*   App - Name of the app\n",
        "*   Category - Category or genre, e.g. Education, Tools\n",
        "*   Content - Rating Suitable content for the audience\n",
        "*   Installs - Number of installs e.g. 1+, 5+, 10+,. . . 1000+\n",
        "*   Rating - Total number of ratings submitted\n",
        "*   Last Updated - Date of last update\n",
        "*   Type - Free or Paid\n",
        "*   Size - Size of app in k (kilobyte), M (megabyte), . . .\n",
        "\n",
        "**User Reviews Data Description.**\n",
        "*   App - Name of the app\n",
        "*   Translated_Review - comment text entered by a user\n",
        "*   Sentiment - Positive, Neutral and Negative\n"
      ],
      "metadata": {
        "id": "23bDCkNzZVjq"
      }
    },
    {
      "cell_type": "markdown",
      "source": [
        "**1. Importing the required libraries to read the csv files.**"
      ],
      "metadata": {
        "id": "Xz2aWcklXlAX"
      }
    },
    {
      "cell_type": "code",
      "source": [
        "# Importing required libraries\n",
        "import pandas as pd\n",
        "import numpy as np\n",
        "import matplotlib.pyplot as plt\n",
        "import seaborn as sns\n",
        "%matplotlib inline"
      ],
      "metadata": {
        "id": "hcAmHq8NJ0lF"
      },
      "execution_count": null,
      "outputs": []
    },
    {
      "cell_type": "code",
      "source": [
        "from google.colab import drive"
      ],
      "metadata": {
        "id": "voE_NHIYO5nq"
      },
      "execution_count": null,
      "outputs": []
    },
    {
      "cell_type": "code",
      "source": [
        "# load CSV file to python variables.\n",
        "path_playstore = '/content/drive/MyDrive/EDA/Play Store Data.csv'\n",
        "path_review ='/content/drive/MyDrive/EDA/User Reviews.csv'"
      ],
      "metadata": {
        "id": "tq-Cx_raJJS-"
      },
      "execution_count": null,
      "outputs": []
    },
    {
      "cell_type": "code",
      "source": [
        "# creating row dataframe.\n",
        "row_playstore_df = pd.read_csv(path_playstore)\n",
        "row_user_review_df = pd.read_csv(path_review)"
      ],
      "metadata": {
        "id": "bCGcMf6TJvUN"
      },
      "execution_count": null,
      "outputs": []
    },
    {
      "cell_type": "code",
      "source": [
        "# we analysis rows and columns.\n",
        "print(row_playstore_df.shape)\n",
        "print(row_user_review_df.shape)"
      ],
      "metadata": {
        "id": "7ZnTyY4uk0Oq"
      },
      "execution_count": null,
      "outputs": []
    },
    {
      "cell_type": "markdown",
      "source": [
        "**2. in data set having duplicate values, hens removeing all duplicate.**"
      ],
      "metadata": {
        "id": "AE8Xq7gJYRYK"
      }
    },
    {
      "cell_type": "code",
      "source": [
        "# removing duplicates from playstore data and user review.\n",
        "playstore_df = row_playstore_df.drop_duplicates()\n",
        "user_review_df = row_user_review_df.drop_duplicates()"
      ],
      "metadata": {
        "id": "WpLN-SESJvef"
      },
      "execution_count": null,
      "outputs": []
    },
    {
      "cell_type": "markdown",
      "source": [
        "**3.Let's print the number of rows and the column in playstore_df and user_review_df.**"
      ],
      "metadata": {
        "id": "HZpYLn9Rnk22"
      }
    },
    {
      "cell_type": "code",
      "source": [
        "# check play store data after remove duplicate\n",
        "playstore_df.head()"
      ],
      "metadata": {
        "id": "udANbr-enR38"
      },
      "execution_count": null,
      "outputs": []
    },
    {
      "cell_type": "code",
      "source": [
        "playstore_df.tail()"
      ],
      "metadata": {
        "id": "LS7Frr75OE9r"
      },
      "execution_count": null,
      "outputs": []
    },
    {
      "cell_type": "code",
      "source": [
        "# check user review data after remove duplicate\n",
        "user_review_df.head()"
      ],
      "metadata": {
        "id": "HQEHNCMToGzZ"
      },
      "execution_count": null,
      "outputs": []
    },
    {
      "cell_type": "markdown",
      "source": [
        "## **CLEANING DATA**"
      ],
      "metadata": {
        "id": "qAIKyeCmJ9f8"
      }
    },
    {
      "cell_type": "code",
      "source": [
        "# check data type\n",
        "playstore_df.info()"
      ],
      "metadata": {
        "id": "gNYTC-RDq2an"
      },
      "execution_count": null,
      "outputs": []
    },
    {
      "cell_type": "code",
      "source": [
        "# Check the dataframe contains any Nan value          \n",
        "playstore_df.isna().sum()"
      ],
      "metadata": {
        "id": "Atd7JlK2JILs"
      },
      "execution_count": null,
      "outputs": []
    },
    {
      "cell_type": "markdown",
      "source": [
        "we have Rating,Type and Content Rating having NaN values.\n",
        "\n",
        "---\n",
        "\n"
      ],
      "metadata": {
        "id": "75Ti1oTWSU_-"
      }
    },
    {
      "cell_type": "markdown",
      "source": [
        "**1. Heandling NaN values in column 'Rating'.**\n"
      ],
      "metadata": {
        "id": "83GEkZU4MOVA"
      }
    },
    {
      "cell_type": "code",
      "source": [
        "playstore_df[playstore_df.Rating.isna()]"
      ],
      "metadata": {
        "id": "En_rAVA_MN6K"
      },
      "execution_count": null,
      "outputs": []
    },
    {
      "cell_type": "code",
      "source": [
        "playstore_df['Rating'].describe()"
      ],
      "metadata": {
        "id": "HwqOTVXbPAFn"
      },
      "execution_count": null,
      "outputs": []
    },
    {
      "cell_type": "markdown",
      "source": [
        "**>> Lets replacing NaN values to MODE.**"
      ],
      "metadata": {
        "id": "4myXqtaSOz-G"
      }
    },
    {
      "cell_type": "code",
      "source": [
        "# MODE store into an variable.\n",
        "mode_val = playstore_df['Rating'].mode()"
      ],
      "metadata": {
        "id": "27fev8Y_LM6o"
      },
      "execution_count": null,
      "outputs": []
    },
    {
      "cell_type": "code",
      "source": [
        "mode_val[0]"
      ],
      "metadata": {
        "id": "engzIAgVLsAj"
      },
      "execution_count": null,
      "outputs": []
    },
    {
      "cell_type": "code",
      "source": [
        "# Now we replace all Nan to MODE \n",
        "playstore_df['Rating'].fillna(value=mode_val[0], inplace = True)"
      ],
      "metadata": {
        "id": "qf4qbZUJQbTJ"
      },
      "execution_count": null,
      "outputs": []
    },
    {
      "cell_type": "code",
      "source": [
        "playstore_df.isna().sum()"
      ],
      "metadata": {
        "id": "V2boPRNTRPfy"
      },
      "execution_count": null,
      "outputs": []
    },
    {
      "cell_type": "markdown",
      "source": [
        "**>> In column Rating having outlayer.**\n"
      ],
      "metadata": {
        "id": "DX2ReYq1TtZ9"
      }
    },
    {
      "cell_type": "code",
      "source": [
        "plt.boxplot(playstore_df.Rating)"
      ],
      "metadata": {
        "id": "xYk6n_DaqX-u"
      },
      "execution_count": null,
      "outputs": []
    },
    {
      "cell_type": "code",
      "source": [
        "# Check this row havaing an outlayer.\n",
        "playstore_df[playstore_df.Rating>5]"
      ],
      "metadata": {
        "id": "iwy_SV1BTs5M"
      },
      "execution_count": null,
      "outputs": []
    },
    {
      "cell_type": "markdown",
      "source": [
        "In row 10472 have an outlayer and also we observed in Category column have a int value, so we drop this row\n",
        "\n",
        "---\n",
        "\n"
      ],
      "metadata": {
        "id": "Mwsj6Zrer8uO"
      }
    },
    {
      "cell_type": "code",
      "source": [
        "#now we simlpey drop this row\n",
        "playstore_df.drop([10472], inplace=True)"
      ],
      "metadata": {
        "id": "JmutWx4cRbJA"
      },
      "execution_count": null,
      "outputs": []
    },
    {
      "cell_type": "markdown",
      "source": [
        "**2. Handling NaN in column 'Type'.**"
      ],
      "metadata": {
        "id": "JepdxUV6ZF3r"
      }
    },
    {
      "cell_type": "code",
      "source": [
        "# check nan in type column\n",
        "playstore_df.isna().sum()"
      ],
      "metadata": {
        "id": "9s82oZ16Xepv"
      },
      "execution_count": null,
      "outputs": []
    },
    {
      "cell_type": "code",
      "source": [
        "playstore_df[playstore_df.Type.isna()]"
      ],
      "metadata": {
        "id": "e89qIg0PZDj8"
      },
      "execution_count": null,
      "outputs": []
    },
    {
      "cell_type": "markdown",
      "source": [
        "we have one NaN in Type column, so we observe most type of apps is free type\n",
        "\n",
        "---\n",
        "\n"
      ],
      "metadata": {
        "id": "88clD7NJtUqL"
      }
    },
    {
      "cell_type": "markdown",
      "source": [
        "**>>In 'Type' column only one value is nan so we just replace NaN to FREE.**"
      ],
      "metadata": {
        "id": "EvaVl_TyaIqE"
      }
    },
    {
      "cell_type": "code",
      "source": [
        "playstore_df['Type'].fillna(value='Free', inplace = True)"
      ],
      "metadata": {
        "id": "gwZnRXgnaHys"
      },
      "execution_count": null,
      "outputs": []
    },
    {
      "cell_type": "code",
      "source": [
        "playstore_df.isna().sum()"
      ],
      "metadata": {
        "id": "1EIK-x0OZnbd"
      },
      "execution_count": null,
      "outputs": []
    },
    {
      "cell_type": "markdown",
      "source": [
        "**3. Now we drop unwanted column like 'anaroid var' and 'current var'.**"
      ],
      "metadata": {
        "id": "YGSJfWsId6F6"
      }
    },
    {
      "cell_type": "code",
      "source": [
        "playstore_df.drop(['Current Ver', 'Android Ver'], axis=1, inplace=True)"
      ],
      "metadata": {
        "id": "mOBHtTZcd5yr"
      },
      "execution_count": null,
      "outputs": []
    },
    {
      "cell_type": "code",
      "source": [
        "# now data frame look like\n",
        "playstore_df.sample(10)"
      ],
      "metadata": {
        "id": "Y7aoZicfdzLY"
      },
      "execution_count": null,
      "outputs": []
    },
    {
      "cell_type": "markdown",
      "source": [
        "**4. Now we change change data type as per the colonm like Reviews,size,install and price have object data type so we change into numaric data type (int).**"
      ],
      "metadata": {
        "id": "UqCEgutZhS_-"
      }
    },
    {
      "cell_type": "markdown",
      "source": [
        "**4.1 Change data type reviews(object) to reviews(int).**"
      ],
      "metadata": {
        "id": "9QaRXTYJjk-A"
      }
    },
    {
      "cell_type": "code",
      "source": [
        "playstore_df.info()"
      ],
      "metadata": {
        "id": "62QIgQlEfC-n"
      },
      "execution_count": null,
      "outputs": []
    },
    {
      "cell_type": "code",
      "source": [
        "# reviews(object) to change (int)\n",
        "playstore_df['Reviews'] = playstore_df.Reviews.astype(int)"
      ],
      "metadata": {
        "id": "JixCOH7NhKEr"
      },
      "execution_count": null,
      "outputs": []
    },
    {
      "cell_type": "code",
      "source": [
        "playstore_df.info()"
      ],
      "metadata": {
        "id": "vs7ZNRX6jShC"
      },
      "execution_count": null,
      "outputs": []
    },
    {
      "cell_type": "markdown",
      "source": [
        "**4.2 In 'installs' and 'price' colomn having '+' , ','  and '$' symbols so we removing this symols.**"
      ],
      "metadata": {
        "id": "GZ8YWGnPnZ4I"
      }
    },
    {
      "cell_type": "code",
      "source": [
        "symbols = ['+', ',' , '$' ]\n",
        "columns = ['Installs', 'Price']\n",
        "\n",
        "for x in columns:\n",
        "    for symb in symbols:\n",
        "        playstore_df[x] = playstore_df[x].astype(str).str.replace(symb, '')\n",
        "    playstore_df[x] = pd.to_numeric(playstore_df[x]) "
      ],
      "metadata": {
        "id": "Wx90zKshnnWB"
      },
      "execution_count": null,
      "outputs": []
    },
    {
      "cell_type": "code",
      "source": [
        "playstore_df.info()"
      ],
      "metadata": {
        "id": "DoavPyNspb0k"
      },
      "execution_count": null,
      "outputs": []
    },
    {
      "cell_type": "markdown",
      "source": [
        "**4.3 'size' having data in 'M' milions and data type is object so we change milions to numaric also change data type to int.**"
      ],
      "metadata": {
        "id": "BTA2lptdloAY"
      }
    },
    {
      "cell_type": "code",
      "source": [
        "# Removing the + Sign\n",
        "playstore_df['Size'] = playstore_df.Size.apply(lambda x: x.strip('+'))"
      ],
      "metadata": {
        "id": "2JcmVJW5jiNc"
      },
      "execution_count": null,
      "outputs": []
    },
    {
      "cell_type": "code",
      "source": [
        "# For removing the `,`\n",
        "playstore_df['Size'] = playstore_df.Size.apply(lambda x: x.replace(',', ''))"
      ],
      "metadata": {
        "id": "ms6HzpLmttNB"
      },
      "execution_count": null,
      "outputs": []
    },
    {
      "cell_type": "code",
      "source": [
        "# For converting the M to E+6\n",
        "playstore_df['Size'] = playstore_df.Size.apply(lambda x: x.replace('M', 'e+6'))"
      ],
      "metadata": {
        "id": "CJ7JUFruttJz"
      },
      "execution_count": null,
      "outputs": []
    },
    {
      "cell_type": "code",
      "source": [
        "# For convertinf the K to E+6\n",
        "playstore_df['Size'] = playstore_df.Size.apply(lambda x: x.replace('k', 'e+3'))"
      ],
      "metadata": {
        "id": "YZq329nPttGo"
      },
      "execution_count": null,
      "outputs": []
    },
    {
      "cell_type": "code",
      "source": [
        "playstore_df['Size'] = playstore_df.Size.replace('Varies with device', np.NaN)"
      ],
      "metadata": {
        "id": "IqgmXB20BtGV"
      },
      "execution_count": null,
      "outputs": []
    },
    {
      "cell_type": "code",
      "source": [
        " # Converting the string to Numeric type\n",
        "playstore_df['Size'] = pd.to_numeric(playstore_df['Size'])"
      ],
      "metadata": {
        "id": "wYEfPZx1AmaF"
      },
      "execution_count": null,
      "outputs": []
    },
    {
      "cell_type": "code",
      "source": [
        "mode_size = playstore_df['Size'].mode()\n",
        "print(mode_size[0])"
      ],
      "metadata": {
        "id": "Z_lXPGaHAmSA"
      },
      "execution_count": null,
      "outputs": []
    },
    {
      "cell_type": "code",
      "source": [
        "playstore_df['Size'].fillna(value=mode_size[0], inplace = True)"
      ],
      "metadata": {
        "id": "ZoBK0innAmOA"
      },
      "execution_count": null,
      "outputs": []
    },
    {
      "cell_type": "code",
      "source": [
        "playstore_df"
      ],
      "metadata": {
        "id": "FYZV2ipEAmJo"
      },
      "execution_count": null,
      "outputs": []
    },
    {
      "cell_type": "markdown",
      "source": [
        "# **Exploratory Analysis and Visualization**\n",
        "\n",
        "> Exploratory data analysis is an approach to analyzing data sets to summarize their main characteristics, often with visual methods. A statistical model can be used or not, but primarily EDA is for seeing what the data can tell us beyond the formal modeling or hypothesis testing task. Data visualization is the graphic representation of data. It involves producing images that communicate relationships among the represented data to viewers of the images\n",
        "\n"
      ],
      "metadata": {
        "id": "0jQNlpQtFbpp"
      }
    },
    {
      "cell_type": "markdown",
      "source": [
        "##**1. Analysis on Category.**"
      ],
      "metadata": {
        "id": "XKrfN1nuwrjd"
      }
    },
    {
      "cell_type": "code",
      "source": [
        "y = playstore_df['Category'].value_counts().index\n",
        "x = playstore_df['Category'].value_counts()\n",
        "xsis = []\n",
        "ysis = []\n",
        "for i in range(len(x)):\n",
        "    xsis.append(x[i])\n",
        "    ysis.append(y[i])"
      ],
      "metadata": {
        "id": "6upP_rh-sAF4"
      },
      "execution_count": null,
      "outputs": []
    },
    {
      "cell_type": "code",
      "source": [
        "plt.figure(figsize=(18,13))\n",
        "plt.xlabel(\"Number of apps\")\n",
        "plt.ylabel(\"Category\")\n",
        "\n",
        "graph = sns.barplot(x = xsis, y = ysis, palette= \"viridis\")\n",
        "graph.set_title(\"Top categories on Playstore\", fontsize = 25);"
      ],
      "metadata": {
        "id": "xTFUIyDlsZU4"
      },
      "execution_count": null,
      "outputs": []
    },
    {
      "cell_type": "markdown",
      "source": [
        "##**2. Analysis on Genres.**"
      ],
      "metadata": {
        "id": "js4ENJbAPKOi"
      }
    },
    {
      "cell_type": "code",
      "source": [
        "toappsgenres = playstore_df['Genres'].value_counts().head(35)"
      ],
      "metadata": {
        "id": "zr0_HIdHP7H7"
      },
      "execution_count": null,
      "outputs": []
    },
    {
      "cell_type": "code",
      "source": [
        "xsis = []\n",
        "ysis = []\n",
        "for i in range(len(toappsgenres)):\n",
        "    xsis.append(toappsgenres.index[i])\n",
        "    ysis.append(toappsgenres[i])"
      ],
      "metadata": {
        "id": "tfco2ktEsZPi"
      },
      "execution_count": null,
      "outputs": []
    },
    {
      "cell_type": "code",
      "source": [
        "plt.figure(figsize=(18,13))\n",
        "plt.xlabel(\"Number of apps\")\n",
        "plt.ylabel(\"Genres\")\n",
        "\n",
        "graph = sns.barplot(x = ysis, y = xsis, palette= \"viridis\")\n",
        "graph.set_title(\"Top Genres in the Playstore\", fontsize = 25);"
      ],
      "metadata": {
        "id": "k1yx02_msZI-"
      },
      "execution_count": null,
      "outputs": []
    },
    {
      "cell_type": "markdown",
      "source": [
        "##**3. Analysis on Category vs Installs.**"
      ],
      "metadata": {
        "id": "e3VB9g05xMcB"
      }
    },
    {
      "cell_type": "code",
      "source": [
        "highest_Installs_df = playstore_df.groupby('Category')[['Installs']].sum().sort_values(by='Installs', ascending=False)"
      ],
      "metadata": {
        "id": "Vublo6Vslufu"
      },
      "execution_count": null,
      "outputs": []
    },
    {
      "cell_type": "code",
      "source": [
        "# groupby category and installs\n",
        "highest_Installs_df.head()"
      ],
      "metadata": {
        "id": "tfwsl_AMluYi"
      },
      "execution_count": null,
      "outputs": []
    },
    {
      "cell_type": "code",
      "source": [
        "x2sis = []\n",
        "y2sis = []\n",
        "\n",
        "for i in range(len(highest_Installs_df)):\n",
        "    x2sis.append(highest_Installs_df.Installs[i])\n",
        "    y2sis.append(highest_Installs_df.index[i])\n",
        "\n",
        "plt.figure(figsize=(18,13))\n",
        "\n",
        "plt.xlabel(\"Installs\")\n",
        "plt.ylabel(\"Category\")\n",
        "graph = sns.barplot(x = x2sis, y = y2sis, alpha =0.9, palette= \"viridis\")\n",
        "graph.set_title(\"Installs\", fontsize = 25);"
      ],
      "metadata": {
        "id": "PTH0iR2nluUU"
      },
      "execution_count": null,
      "outputs": []
    },
    {
      "cell_type": "code",
      "source": [
        "def top_installed_in_incategory(str):\n",
        "    str = str.upper()\n",
        "    top10 = playstore_df[playstore_df['Category'] == str]\n",
        "    top10apps = top10.sort_values(by='Installs', ascending=False).head(10)\n",
        "    # Top_Apps_in_art_and_design\n",
        "    plt.figure(figsize=(10,5))\n",
        "    plt.title('Top Installed Apps',size = 20);    \n",
        "    graph = sns.barplot(x = top10apps.App, y = top10apps.Installs, palette= \"viridis\")\n",
        "    graph.set_xticklabels(graph.get_xticklabels(), rotation= 45, horizontalalignment='right');"
      ],
      "metadata": {
        "id": "kXQBNVqIluJl"
      },
      "execution_count": null,
      "outputs": []
    },
    {
      "cell_type": "markdown",
      "source": [
        "**3.1 Top Installed apps in game.**"
      ],
      "metadata": {
        "id": "d3WYytc7yq9u"
      }
    },
    {
      "cell_type": "code",
      "source": [
        "top_installed_in_incategory('GAME')"
      ],
      "metadata": {
        "id": "gI3eE7OpluFP"
      },
      "execution_count": null,
      "outputs": []
    },
    {
      "cell_type": "markdown",
      "source": [
        "**3.2 Top Installed apps in communication.**"
      ],
      "metadata": {
        "id": "7FvRiiMu1Njm"
      }
    },
    {
      "cell_type": "code",
      "source": [
        "top_installed_in_incategory('COMMUNICATION')"
      ],
      "metadata": {
        "id": "Q8SgKaFnlt_O"
      },
      "execution_count": null,
      "outputs": []
    },
    {
      "cell_type": "markdown",
      "source": [
        "**3.3 Top Installed apps in social.**"
      ],
      "metadata": {
        "id": "7qifMuG61V6U"
      }
    },
    {
      "cell_type": "code",
      "source": [
        "top_installed_in_incategory('SOCIAL')"
      ],
      "metadata": {
        "id": "ajPVJ7o7lt5T"
      },
      "execution_count": null,
      "outputs": []
    },
    {
      "cell_type": "markdown",
      "source": [
        "##**4. Let's plot a visualization graph to view what portion of the apps in playstore are paid and free.**"
      ],
      "metadata": {
        "id": "rYVjDFj6t2UP"
      }
    },
    {
      "cell_type": "code",
      "source": [
        "plt.figure(figsize=(10,10))\n",
        "labels = playstore_df['Type'].value_counts(sort = True).index\n",
        "sizes = playstore_df['Type'].value_counts(sort = True)\n",
        "colors = [\"blue\",\"lightgreen\"]\n",
        "explode = (0.2,0)\n",
        "plt.pie(sizes, labels=labels, autopct='%1.1f%%')\n",
        "plt.title('Percent of Free Vs Paid Apps',size = 20)\n",
        "plt.show()"
      ],
      "metadata": {
        "id": "0w02gI_et5En"
      },
      "execution_count": null,
      "outputs": []
    },
    {
      "cell_type": "markdown",
      "source": [
        "**4.1 Top Free Apps from Category.**"
      ],
      "metadata": {
        "id": "ceBTzmQc1_aB"
      }
    },
    {
      "cell_type": "code",
      "source": [
        "free_apps_df = playstore_df[playstore_df['Type'] == 'Free']"
      ],
      "metadata": {
        "id": "N4Dl9LU8vWyG"
      },
      "execution_count": null,
      "outputs": []
    },
    {
      "cell_type": "code",
      "source": [
        "top_free_df = free_apps_df[free_apps_df['Installs'] == free_apps_df['Installs'].max()]"
      ],
      "metadata": {
        "id": "UpxpSd1vvYyh"
      },
      "execution_count": null,
      "outputs": []
    },
    {
      "cell_type": "code",
      "source": [
        "top_free_df.head()"
      ],
      "metadata": {
        "id": "iQ-anYBAvwC7"
      },
      "execution_count": null,
      "outputs": []
    },
    {
      "cell_type": "code",
      "source": [
        "top_free_df[playstore_df['Type'] == 'Free']['Category'].value_counts().plot.bar(figsize=(15,5))\n",
        "plt.xlabel('Category')\n",
        "plt.ylabel('Number of apps')\n",
        "plt.title('Top Free Apps Category')\n",
        "plt.xticks(rotation=40)\n",
        "plt.legend()"
      ],
      "metadata": {
        "id": "UKamK6wsuNQR"
      },
      "execution_count": null,
      "outputs": []
    },
    {
      "cell_type": "markdown",
      "source": [
        "**4.2 Top paid Apps from Category.**"
      ],
      "metadata": {
        "id": "DLMGpIUJxLGA"
      }
    },
    {
      "cell_type": "code",
      "source": [
        "paid_apps_df = playstore_df[playstore_df['Type'] == 'Paid']\n",
        "paid_apps_df"
      ],
      "metadata": {
        "id": "xPrePP6ruNKG"
      },
      "execution_count": null,
      "outputs": []
    },
    {
      "cell_type": "code",
      "source": [
        "earning_df = paid_apps_df[['App','Type','Installs', 'Price', 'Category']]\n",
        "\n",
        "earning_df"
      ],
      "metadata": {
        "id": "fZlbwNQMuNET"
      },
      "execution_count": null,
      "outputs": []
    },
    {
      "cell_type": "code",
      "source": [
        "earning_df['Earnings'] = earning_df['Installs'] * earning_df['Price']\n",
        "earning_df"
      ],
      "metadata": {
        "id": "8LmsBLlHuM-b"
      },
      "execution_count": null,
      "outputs": []
    },
    {
      "cell_type": "code",
      "source": [
        "top_paid_df = earning_df.nlargest(20, 'Earnings')\n",
        "top_paid_df"
      ],
      "metadata": {
        "id": "y_FINw4Q0Z78"
      },
      "execution_count": null,
      "outputs": []
    },
    {
      "cell_type": "code",
      "source": [
        "top_paid_df[playstore_df['Type'] == 'Paid']['Category'].value_counts().plot.bar(figsize=(15,5))\n",
        "plt.xlabel('Category')\n",
        "plt.ylabel('Number of apps')\n",
        "plt.title('Top paid Apps Category')\n",
        "plt.xticks(rotation=40)\n",
        "plt.legend()"
      ],
      "metadata": {
        "id": "Lw31Suknyyu2"
      },
      "execution_count": null,
      "outputs": []
    },
    {
      "cell_type": "markdown",
      "source": [
        "##**5. rattings.**"
      ],
      "metadata": {
        "id": "w13-snfW2Ue3"
      }
    },
    {
      "cell_type": "code",
      "source": [
        "# box plot of rattinga\n",
        "sns.boxplot(data = playstore_df['Rating'],y = playstore_df['Rating'])"
      ],
      "metadata": {
        "id": "8MNZ2h_dGB5c"
      },
      "execution_count": null,
      "outputs": []
    },
    {
      "cell_type": "code",
      "source": [
        "# ratting median\n",
        "playstore_df['Rating'].median"
      ],
      "metadata": {
        "id": "PlRVuIeZ9BZ4"
      },
      "execution_count": null,
      "outputs": []
    },
    {
      "cell_type": "code",
      "source": [
        "sns.distplot(playstore_df['Rating'])"
      ],
      "metadata": {
        "id": "WTGabfCzGBv2"
      },
      "execution_count": null,
      "outputs": []
    },
    {
      "cell_type": "code",
      "source": [
        "playstore_df['Rating'].value_counts().plot.pie(figsize = (10,10), autopct='%1.1f%%')\n",
        "# plt.legend()"
      ],
      "metadata": {
        "id": "NG2KSE7j-Zwu"
      },
      "execution_count": null,
      "outputs": []
    },
    {
      "cell_type": "markdown",
      "source": [
        "##**6.Distribution of apps in term of their rating, size and type.**"
      ],
      "metadata": {
        "id": "W9qRIw_V2cha"
      }
    },
    {
      "cell_type": "code",
      "source": [
        "# show the distribution of apps in term of their rating, size and type\n",
        "plt.figure(figsize=(12, 6))\n",
        "plt.title('Distribution of apps in term of their rating, size and type' )\n",
        "sns.scatterplot(playstore_df['Size'],\n",
        "               playstore_df['Rating'],\n",
        "               hue=playstore_df['Type'],\n",
        "               s=50)"
      ],
      "metadata": {
        "id": "QzihMUiE5d2V"
      },
      "execution_count": null,
      "outputs": []
    },
    {
      "cell_type": "markdown",
      "source": [
        "##**7. Heat map on Rating,Reviews,Size,Installs and Price.**"
      ],
      "metadata": {
        "id": "Iw80DWMJ2662"
      }
    },
    {
      "cell_type": "code",
      "source": [
        "playstore_df.corr()  "
      ],
      "metadata": {
        "id": "WC_gqmZX-YP2"
      },
      "execution_count": null,
      "outputs": []
    },
    {
      "cell_type": "code",
      "source": [
        "fig, axes = plt.subplots(figsize=(10, 10))\n",
        "sns.heatmap(playstore_df.corr(), ax=axes, annot=True, linewidths=0.1, fmt='.2f', square=True)\n",
        "plt.show()"
      ],
      "metadata": {
        "id": "7luoU0etBuzQ"
      },
      "execution_count": null,
      "outputs": []
    },
    {
      "cell_type": "markdown",
      "source": [
        "##**8. user reviews.**"
      ],
      "metadata": {
        "id": "bY2TwdO43ChJ"
      }
    },
    {
      "cell_type": "code",
      "source": [
        "from wordcloud import WordCloud,STOPWORDS"
      ],
      "metadata": {
        "id": "Cwxp57-kPSyE"
      },
      "execution_count": null,
      "outputs": []
    },
    {
      "cell_type": "code",
      "source": [
        "comment_words = ''\n",
        "stopwords = set(STOPWORDS)\n",
        " \n",
        "# iterate through the csv file\n",
        "for val in user_review_df.Translated_Review.values:\n",
        "     \n",
        "    # typecaste each val to string\n",
        "    val = str(val)\n",
        " \n",
        "    # split the value\n",
        "    tokens = val.split()\n",
        "     \n",
        "    # Converts each token into lowercase\n",
        "    for i in range(len(tokens)):\n",
        "        tokens[i] = tokens[i].lower()\n",
        "     \n",
        "    comment_words += \" \".join(tokens)+\" \"\n",
        " \n",
        "wordcloud = WordCloud(width = 700, height = 700,\n",
        "                background_color ='white',\n",
        "                stopwords = stopwords,\n",
        "                min_font_size = 10).generate(comment_words)\n",
        " \n",
        "# plot the WordCloud image                      \n",
        "plt.figure(figsize = (8,8), facecolor = None)\n",
        "plt.imshow(wordcloud)\n",
        "plt.axis(\"off\")\n",
        "plt.tight_layout(pad = 0)"
      ],
      "metadata": {
        "id": "I-VZfP1TPh4S"
      },
      "execution_count": null,
      "outputs": []
    },
    {
      "cell_type": "markdown",
      "source": [
        "# **Conclusion**"
      ],
      "metadata": {
        "id": "SIIPqPdkVHJQ"
      }
    },
    {
      "cell_type": "markdown",
      "source": [
        "The Play Store Apps provides some useful insights regarding the trending of the apps in the play store. As per the graphs visualizations shown above, most of the trending apps (in terms of users' installs) are from the categories like GAME, COMMUNICATION, and TOOL even though the amount of available apps from these categories are twice as much lesser than the category FAMILY. The trending of these apps are most probably due to their nature of being able to entertain or assist the user. Besides, it also shows a good trend where we can see that developers from these categories are focusing on the quality instead of the quantity.\n",
        "\n",
        "*   Family, Games and Tools categories have highest number of apps availible in app store.\n",
        "*   Communication, Game and Social categories highest number of installed.\n",
        "*   Games category top most install apps are subway surfers,Pou,Temple run2 and My tolking tom 2.\n",
        "*   Communication categaory top number of installed apps are Messenger, Whatsapp, Hangouts and Gmail.\n",
        "\n",
        "*   Social categaory top number of installed apps are Facebook, Instagram, Google+ and Gmail.\n",
        "\n",
        "*   In app store 92.6% free apps and 7.4% paid apps available.\n",
        "*   top 20 free apps belongs to communication,social and game category.\n",
        "\n",
        "\n",
        "*   Top 20 paid apps belongs to family, lifestyle and game.\n",
        "\n",
        "*   Average ratings are 4.12.\n",
        "*   Small size of apps getting high ratting.\n",
        "\n",
        "\n",
        "\n",
        "\n",
        "\n"
      ],
      "metadata": {
        "id": "ykfq8_LgVLvK"
      }
    }
  ]
}